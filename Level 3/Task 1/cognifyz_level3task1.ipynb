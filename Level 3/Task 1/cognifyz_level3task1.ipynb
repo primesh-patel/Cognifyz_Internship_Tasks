{
 "cells": [
  {
   "cell_type": "markdown",
   "id": "73dcda6b",
   "metadata": {},
   "source": [
    "# Import Libraries"
   ]
  },
  {
   "cell_type": "code",
   "execution_count": 1,
   "id": "f3767bb1",
   "metadata": {},
   "outputs": [],
   "source": [
    "import pandas as pd\n",
    "import numpy as np\n",
    "from sklearn.model_selection import train_test_split\n",
    "from sklearn.preprocessing import LabelEncoder\n",
    "from sklearn.linear_model import LinearRegression\n",
    "from sklearn.tree import DecisionTreeRegressor\n",
    "from sklearn.ensemble import RandomForestRegressor\n",
    "from sklearn.metrics import mean_squared_error, r2_score"
   ]
  },
  {
   "cell_type": "markdown",
   "id": "39db34c6",
   "metadata": {},
   "source": [
    "# Load the Dataset"
   ]
  },
  {
   "cell_type": "code",
   "execution_count": 2,
   "id": "548b8879",
   "metadata": {},
   "outputs": [],
   "source": [
    "# Load the Dataset\n",
    "df = pd.read_csv(\"Dataset .csv\")"
   ]
  },
  {
   "cell_type": "code",
   "execution_count": 5,
   "id": "a7da7bf1",
   "metadata": {},
   "outputs": [
    {
     "data": {
      "text/html": [
       "<div>\n",
       "<style scoped>\n",
       "    .dataframe tbody tr th:only-of-type {\n",
       "        vertical-align: middle;\n",
       "    }\n",
       "\n",
       "    .dataframe tbody tr th {\n",
       "        vertical-align: top;\n",
       "    }\n",
       "\n",
       "    .dataframe thead th {\n",
       "        text-align: right;\n",
       "    }\n",
       "</style>\n",
       "<table border=\"1\" class=\"dataframe\">\n",
       "  <thead>\n",
       "    <tr style=\"text-align: right;\">\n",
       "      <th></th>\n",
       "      <th>Restaurant ID</th>\n",
       "      <th>Restaurant Name</th>\n",
       "      <th>Country Code</th>\n",
       "      <th>City</th>\n",
       "      <th>Address</th>\n",
       "      <th>Locality</th>\n",
       "      <th>Locality Verbose</th>\n",
       "      <th>Longitude</th>\n",
       "      <th>Latitude</th>\n",
       "      <th>Cuisines</th>\n",
       "      <th>...</th>\n",
       "      <th>Currency</th>\n",
       "      <th>Has Table booking</th>\n",
       "      <th>Has Online delivery</th>\n",
       "      <th>Is delivering now</th>\n",
       "      <th>Switch to order menu</th>\n",
       "      <th>Price range</th>\n",
       "      <th>Aggregate rating</th>\n",
       "      <th>Rating color</th>\n",
       "      <th>Rating text</th>\n",
       "      <th>Votes</th>\n",
       "    </tr>\n",
       "  </thead>\n",
       "  <tbody>\n",
       "    <tr>\n",
       "      <th>3489</th>\n",
       "      <td>9883</td>\n",
       "      <td>Aggarwal Eating Point</td>\n",
       "      <td>1</td>\n",
       "      <td>New Delhi</td>\n",
       "      <td>3-5, Mini DDA Market, Amrit Puri B, Garhi, Eas...</td>\n",
       "      <td>East of Kailash</td>\n",
       "      <td>East of Kailash, New Delhi</td>\n",
       "      <td>77.253708</td>\n",
       "      <td>28.556926</td>\n",
       "      <td>Street Food, Mithai</td>\n",
       "      <td>...</td>\n",
       "      <td>Indian Rupees(Rs.)</td>\n",
       "      <td>No</td>\n",
       "      <td>No</td>\n",
       "      <td>No</td>\n",
       "      <td>No</td>\n",
       "      <td>1</td>\n",
       "      <td>0.0</td>\n",
       "      <td>White</td>\n",
       "      <td>Not rated</td>\n",
       "      <td>2</td>\n",
       "    </tr>\n",
       "    <tr>\n",
       "      <th>5031</th>\n",
       "      <td>7317</td>\n",
       "      <td>Bikaner</td>\n",
       "      <td>1</td>\n",
       "      <td>New Delhi</td>\n",
       "      <td>L-10, Near IGI Airport, Mahipalpur, New Delhi</td>\n",
       "      <td>Mahipalpur</td>\n",
       "      <td>Mahipalpur, New Delhi</td>\n",
       "      <td>77.124921</td>\n",
       "      <td>28.546460</td>\n",
       "      <td>Mithai, North Indian, South Indian, Chinese, S...</td>\n",
       "      <td>...</td>\n",
       "      <td>Indian Rupees(Rs.)</td>\n",
       "      <td>No</td>\n",
       "      <td>No</td>\n",
       "      <td>No</td>\n",
       "      <td>No</td>\n",
       "      <td>2</td>\n",
       "      <td>2.9</td>\n",
       "      <td>Orange</td>\n",
       "      <td>Average</td>\n",
       "      <td>6</td>\n",
       "    </tr>\n",
       "    <tr>\n",
       "      <th>133</th>\n",
       "      <td>17294565</td>\n",
       "      <td>Nacho Mamas Burritos</td>\n",
       "      <td>216</td>\n",
       "      <td>Augusta</td>\n",
       "      <td>976 Broad St, Augusta, GA 30901</td>\n",
       "      <td>Augusta</td>\n",
       "      <td>Augusta, Augusta</td>\n",
       "      <td>-81.969400</td>\n",
       "      <td>33.476400</td>\n",
       "      <td>Mexican</td>\n",
       "      <td>...</td>\n",
       "      <td>Dollar($)</td>\n",
       "      <td>No</td>\n",
       "      <td>No</td>\n",
       "      <td>No</td>\n",
       "      <td>No</td>\n",
       "      <td>1</td>\n",
       "      <td>4.0</td>\n",
       "      <td>Green</td>\n",
       "      <td>Very Good</td>\n",
       "      <td>380</td>\n",
       "    </tr>\n",
       "    <tr>\n",
       "      <th>8788</th>\n",
       "      <td>304484</td>\n",
       "      <td>Chauhan Hotel</td>\n",
       "      <td>1</td>\n",
       "      <td>Noida</td>\n",
       "      <td>Main Road, Opposite Sector 51, Sector 52, Noida</td>\n",
       "      <td>Sector 52</td>\n",
       "      <td>Sector 52, Noida</td>\n",
       "      <td>77.367691</td>\n",
       "      <td>28.583308</td>\n",
       "      <td>North Indian</td>\n",
       "      <td>...</td>\n",
       "      <td>Indian Rupees(Rs.)</td>\n",
       "      <td>No</td>\n",
       "      <td>No</td>\n",
       "      <td>No</td>\n",
       "      <td>No</td>\n",
       "      <td>1</td>\n",
       "      <td>2.9</td>\n",
       "      <td>Orange</td>\n",
       "      <td>Average</td>\n",
       "      <td>11</td>\n",
       "    </tr>\n",
       "    <tr>\n",
       "      <th>6182</th>\n",
       "      <td>300337</td>\n",
       "      <td>Hot Spot Roll Corner</td>\n",
       "      <td>1</td>\n",
       "      <td>New Delhi</td>\n",
       "      <td>G 68, Satyam Tower, Near Post Office, Paschim ...</td>\n",
       "      <td>Paschim Vihar</td>\n",
       "      <td>Paschim Vihar, New Delhi</td>\n",
       "      <td>77.101517</td>\n",
       "      <td>28.669808</td>\n",
       "      <td>Fast Food</td>\n",
       "      <td>...</td>\n",
       "      <td>Indian Rupees(Rs.)</td>\n",
       "      <td>No</td>\n",
       "      <td>No</td>\n",
       "      <td>No</td>\n",
       "      <td>No</td>\n",
       "      <td>1</td>\n",
       "      <td>3.2</td>\n",
       "      <td>Orange</td>\n",
       "      <td>Average</td>\n",
       "      <td>34</td>\n",
       "    </tr>\n",
       "  </tbody>\n",
       "</table>\n",
       "<p>5 rows × 21 columns</p>\n",
       "</div>"
      ],
      "text/plain": [
       "      Restaurant ID        Restaurant Name  Country Code       City  \\\n",
       "3489           9883  Aggarwal Eating Point             1  New Delhi   \n",
       "5031           7317                Bikaner             1  New Delhi   \n",
       "133        17294565   Nacho Mamas Burritos           216    Augusta   \n",
       "8788         304484          Chauhan Hotel             1      Noida   \n",
       "6182         300337   Hot Spot Roll Corner             1  New Delhi   \n",
       "\n",
       "                                                Address         Locality  \\\n",
       "3489  3-5, Mini DDA Market, Amrit Puri B, Garhi, Eas...  East of Kailash   \n",
       "5031      L-10, Near IGI Airport, Mahipalpur, New Delhi       Mahipalpur   \n",
       "133                     976 Broad St, Augusta, GA 30901          Augusta   \n",
       "8788    Main Road, Opposite Sector 51, Sector 52, Noida        Sector 52   \n",
       "6182  G 68, Satyam Tower, Near Post Office, Paschim ...    Paschim Vihar   \n",
       "\n",
       "                Locality Verbose  Longitude   Latitude  \\\n",
       "3489  East of Kailash, New Delhi  77.253708  28.556926   \n",
       "5031       Mahipalpur, New Delhi  77.124921  28.546460   \n",
       "133             Augusta, Augusta -81.969400  33.476400   \n",
       "8788            Sector 52, Noida  77.367691  28.583308   \n",
       "6182    Paschim Vihar, New Delhi  77.101517  28.669808   \n",
       "\n",
       "                                               Cuisines  ...  \\\n",
       "3489                                Street Food, Mithai  ...   \n",
       "5031  Mithai, North Indian, South Indian, Chinese, S...  ...   \n",
       "133                                             Mexican  ...   \n",
       "8788                                       North Indian  ...   \n",
       "6182                                          Fast Food  ...   \n",
       "\n",
       "                Currency Has Table booking Has Online delivery  \\\n",
       "3489  Indian Rupees(Rs.)                No                  No   \n",
       "5031  Indian Rupees(Rs.)                No                  No   \n",
       "133            Dollar($)                No                  No   \n",
       "8788  Indian Rupees(Rs.)                No                  No   \n",
       "6182  Indian Rupees(Rs.)                No                  No   \n",
       "\n",
       "     Is delivering now Switch to order menu Price range  Aggregate rating  \\\n",
       "3489                No                   No           1               0.0   \n",
       "5031                No                   No           2               2.9   \n",
       "133                 No                   No           1               4.0   \n",
       "8788                No                   No           1               2.9   \n",
       "6182                No                   No           1               3.2   \n",
       "\n",
       "      Rating color Rating text Votes  \n",
       "3489         White   Not rated     2  \n",
       "5031        Orange     Average     6  \n",
       "133          Green   Very Good   380  \n",
       "8788        Orange     Average    11  \n",
       "6182        Orange     Average    34  \n",
       "\n",
       "[5 rows x 21 columns]"
      ]
     },
     "execution_count": 5,
     "metadata": {},
     "output_type": "execute_result"
    }
   ],
   "source": [
    "# Display the few random rows to check the data\n",
    "df.sample(5)"
   ]
  },
  {
   "cell_type": "markdown",
   "id": "9429306a",
   "metadata": {},
   "source": [
    "# Data Cleaning"
   ]
  },
  {
   "cell_type": "code",
   "execution_count": 6,
   "id": "8c016011",
   "metadata": {},
   "outputs": [],
   "source": [
    "# Drop irrelevant columns\n",
    "drop_cols = [\"Restaurant ID\", \"Restaurant Name\", \"Address\", \"Locality\", \"Locality Verbose\", \n",
    "             \"Rating color\", \"Rating text\", \"Currency\", \"Switch to order menu\"]\n",
    "df_cleaned = df.drop(columns=drop_cols)"
   ]
  },
  {
   "cell_type": "code",
   "execution_count": 7,
   "id": "44a08e00",
   "metadata": {},
   "outputs": [
    {
     "data": {
      "text/plain": [
       "Index(['Country Code', 'City', 'Longitude', 'Latitude', 'Cuisines',\n",
       "       'Average Cost for two', 'Has Table booking', 'Has Online delivery',\n",
       "       'Is delivering now', 'Price range', 'Aggregate rating', 'Votes'],\n",
       "      dtype='object')"
      ]
     },
     "execution_count": 7,
     "metadata": {},
     "output_type": "execute_result"
    }
   ],
   "source": [
    "df_cleaned.columns"
   ]
  },
  {
   "cell_type": "code",
   "execution_count": 8,
   "id": "a02c9362",
   "metadata": {},
   "outputs": [],
   "source": [
    "# Handle missing values\n",
    "df_cleaned.dropna(inplace=True)"
   ]
  },
  {
   "cell_type": "markdown",
   "id": "6b53be1e",
   "metadata": {},
   "source": [
    "# Data Preprocessing"
   ]
  },
  {
   "cell_type": "code",
   "execution_count": 10,
   "id": "ebaf3351",
   "metadata": {},
   "outputs": [],
   "source": [
    "# Encode categorical variables\n",
    "label_encoders = {}\n",
    "categorical_cols = [\"Cuisines\", \"Has Table booking\", \"Has Online delivery\", \"Is delivering now\", \"City\"]\n",
    "\n",
    "for col in categorical_cols:\n",
    "    le = LabelEncoder()\n",
    "    df_cleaned[col] = le.fit_transform(df_cleaned[col])\n",
    "    label_encoders[col] = le"
   ]
  },
  {
   "cell_type": "code",
   "execution_count": 11,
   "id": "8bc92e29",
   "metadata": {},
   "outputs": [],
   "source": [
    "# Define features (X) and target (y)\n",
    "X = df_cleaned.drop(columns=[\"Aggregate rating\"])\n",
    "y = df_cleaned[\"Aggregate rating\"]"
   ]
  },
  {
   "cell_type": "code",
   "execution_count": 12,
   "id": "02bee36f",
   "metadata": {},
   "outputs": [],
   "source": [
    "# Split data into training (80%) and testing (20%)\n",
    "X_train, X_test, y_train, y_test = train_test_split(X, y, test_size=0.2, random_state=42)"
   ]
  },
  {
   "cell_type": "markdown",
   "id": "76513feb",
   "metadata": {},
   "source": [
    "# Modeling Phase"
   ]
  },
  {
   "cell_type": "code",
   "execution_count": 13,
   "id": "c2c13188",
   "metadata": {},
   "outputs": [],
   "source": [
    "# Initialize models\n",
    "models = {\n",
    "    \"Linear Regression\": LinearRegression(),\n",
    "    \"Decision Tree\": DecisionTreeRegressor(random_state=42),\n",
    "    \"Random Forest\": RandomForestRegressor(n_estimators=100, random_state=42)\n",
    "}"
   ]
  },
  {
   "cell_type": "code",
   "execution_count": 14,
   "id": "5b3e2a19",
   "metadata": {},
   "outputs": [],
   "source": [
    "# Train and evaluate models\n",
    "results = {}\n",
    "for name, model in models.items():\n",
    "    model.fit(X_train, y_train)\n",
    "    y_pred = model.predict(X_test)\n",
    "    rmse = np.sqrt(mean_squared_error(y_test, y_pred))\n",
    "    r2 = r2_score(y_test, y_pred)\n",
    "    results[name] = {\"RMSE\": rmse, \"R² Score\": r2}"
   ]
  },
  {
   "cell_type": "code",
   "execution_count": 15,
   "id": "b542f77c",
   "metadata": {},
   "outputs": [
    {
     "name": "stdout",
     "output_type": "stream",
     "text": [
      "Linear Regression: RMSE = 1.234, R² Score = 0.335\n",
      "Decision Tree: RMSE = 0.428, R² Score = 0.920\n",
      "Random Forest: RMSE = 0.296, R² Score = 0.962\n"
     ]
    }
   ],
   "source": [
    "# Print results\n",
    "for model, metrics in results.items():\n",
    "    print(f\"{model}: RMSE = {metrics['RMSE']:.3f}, R² Score = {metrics['R² Score']:.3f}\")"
   ]
  },
  {
   "cell_type": "code",
   "execution_count": null,
   "id": "44fe8f21",
   "metadata": {},
   "outputs": [],
   "source": []
  }
 ],
 "metadata": {
  "kernelspec": {
   "display_name": "Python 3 (ipykernel)",
   "language": "python",
   "name": "python3"
  },
  "language_info": {
   "codemirror_mode": {
    "name": "ipython",
    "version": 3
   },
   "file_extension": ".py",
   "mimetype": "text/x-python",
   "name": "python",
   "nbconvert_exporter": "python",
   "pygments_lexer": "ipython3",
   "version": "3.11.3"
  }
 },
 "nbformat": 4,
 "nbformat_minor": 5
}
